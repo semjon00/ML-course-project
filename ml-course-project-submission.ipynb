{
 "cells": [
  {
   "cell_type": "markdown",
   "id": "20d87e61",
   "metadata": {
    "papermill": {
     "duration": 0.003726,
     "end_time": "2023-12-19T00:23:12.248030",
     "exception": false,
     "start_time": "2023-12-19T00:23:12.244304",
     "status": "completed"
    },
    "tags": []
   },
   "source": [
    "**Imports**"
   ]
  },
  {
   "cell_type": "code",
   "execution_count": 1,
   "id": "6d1460b7",
   "metadata": {
    "execution": {
     "iopub.execute_input": "2023-12-19T00:23:12.256813Z",
     "iopub.status.busy": "2023-12-19T00:23:12.255906Z",
     "iopub.status.idle": "2023-12-19T00:23:24.337267Z",
     "shell.execute_reply": "2023-12-19T00:23:24.336486Z"
    },
    "papermill": {
     "duration": 12.088005,
     "end_time": "2023-12-19T00:23:24.339377",
     "exception": false,
     "start_time": "2023-12-19T00:23:12.251372",
     "status": "completed"
    },
    "tags": []
   },
   "outputs": [],
   "source": [
    "import warnings\n",
    "warnings.filterwarnings('ignore')\n",
    "\n",
    "import pandas as pd\n",
    "import numpy as np\n",
    "\n",
    "from PIL import Image\n",
    "from shutil import copyfile\n",
    "from keras.models import Model\n",
    "from keras.models import load_model\n",
    "\n",
    "copyfile(src = \"/kaggle/input/input-data/augmentor.py\", dst = \"/kaggle/working/augmentor.py\")\n",
    "\n",
    "from augmentor import *"
   ]
  },
  {
   "cell_type": "markdown",
   "id": "13cb850c",
   "metadata": {
    "papermill": {
     "duration": 0.002976,
     "end_time": "2023-12-19T00:23:24.345640",
     "exception": false,
     "start_time": "2023-12-19T00:23:24.342664",
     "status": "completed"
    },
    "tags": []
   },
   "source": [
    "**Config**"
   ]
  },
  {
   "cell_type": "code",
   "execution_count": 2,
   "id": "0ed9b080",
   "metadata": {
    "execution": {
     "iopub.execute_input": "2023-12-19T00:23:24.353032Z",
     "iopub.status.busy": "2023-12-19T00:23:24.352533Z",
     "iopub.status.idle": "2023-12-19T00:23:24.357377Z",
     "shell.execute_reply": "2023-12-19T00:23:24.356537Z"
    },
    "papermill": {
     "duration": 0.010535,
     "end_time": "2023-12-19T00:23:24.359240",
     "exception": false,
     "start_time": "2023-12-19T00:23:24.348705",
     "status": "completed"
    },
    "tags": []
   },
   "outputs": [],
   "source": [
    "test_csv = '/kaggle/input/UBC-OCEAN/test.csv'\n",
    "test_images = '/kaggle/input/UBC-OCEAN/test_images/'\n",
    "model_file = '/kaggle/input/input-data/model.h5'\n",
    "\n",
    "classes = ['CC', 'EC', 'HGSC', 'LGSC', 'MC']\n",
    "\n",
    "n_crops = 15"
   ]
  },
  {
   "cell_type": "markdown",
   "id": "3edcd60f",
   "metadata": {
    "papermill": {
     "duration": 0.002841,
     "end_time": "2023-12-19T00:23:24.365201",
     "exception": false,
     "start_time": "2023-12-19T00:23:24.362360",
     "status": "completed"
    },
    "tags": []
   },
   "source": [
    "**Functions**"
   ]
  },
  {
   "cell_type": "code",
   "execution_count": 3,
   "id": "a43418f6",
   "metadata": {
    "execution": {
     "iopub.execute_input": "2023-12-19T00:23:24.372369Z",
     "iopub.status.busy": "2023-12-19T00:23:24.372069Z",
     "iopub.status.idle": "2023-12-19T00:23:24.378863Z",
     "shell.execute_reply": "2023-12-19T00:23:24.378168Z"
    },
    "papermill": {
     "duration": 0.012383,
     "end_time": "2023-12-19T00:23:24.380684",
     "exception": false,
     "start_time": "2023-12-19T00:23:24.368301",
     "status": "completed"
    },
    "tags": []
   },
   "outputs": [],
   "source": [
    "def one_hot_to_values(vector, classes, threshold=0.4):\n",
    "    values = []\n",
    "    for one_hot in vector:\n",
    "        if np.max(one_hot) < threshold:\n",
    "            value = 'Other'\n",
    "        else:\n",
    "            value = classes[np.argmax(one_hot)]\n",
    "        values.append(value)\n",
    "    return np.array(values)\n",
    "\n",
    "def load_crops(idx, it):\n",
    "    image = Image.open(test_images+str(idx)+'.png')\n",
    "    crops = []\n",
    "    for crop, confidence in augmenting_generator(image, n_crops, it=it):\n",
    "        crops.append(np.array(crop))\n",
    "        crop.close()\n",
    "    image.close()\n",
    "    return np.array(crops).reshape(-1, aug_side_px, aug_side_px, 3)"
   ]
  },
  {
   "cell_type": "markdown",
   "id": "0bf305db",
   "metadata": {
    "papermill": {
     "duration": 0.002904,
     "end_time": "2023-12-19T00:23:24.386558",
     "exception": false,
     "start_time": "2023-12-19T00:23:24.383654",
     "status": "completed"
    },
    "tags": []
   },
   "source": [
    "**Loading model**"
   ]
  },
  {
   "cell_type": "code",
   "execution_count": 4,
   "id": "e004a69f",
   "metadata": {
    "execution": {
     "iopub.execute_input": "2023-12-19T00:23:24.393578Z",
     "iopub.status.busy": "2023-12-19T00:23:24.393306Z",
     "iopub.status.idle": "2023-12-19T00:23:30.542958Z",
     "shell.execute_reply": "2023-12-19T00:23:30.542015Z"
    },
    "papermill": {
     "duration": 6.156006,
     "end_time": "2023-12-19T00:23:30.545537",
     "exception": false,
     "start_time": "2023-12-19T00:23:24.389531",
     "status": "completed"
    },
    "tags": []
   },
   "outputs": [],
   "source": [
    "model = load_model(model_file)"
   ]
  },
  {
   "cell_type": "markdown",
   "id": "8ecef7bc",
   "metadata": {
    "papermill": {
     "duration": 0.003094,
     "end_time": "2023-12-19T00:23:30.552045",
     "exception": false,
     "start_time": "2023-12-19T00:23:30.548951",
     "status": "completed"
    },
    "tags": []
   },
   "source": [
    "**Loading test images and making predictions**"
   ]
  },
  {
   "cell_type": "code",
   "execution_count": 5,
   "id": "6980699a",
   "metadata": {
    "execution": {
     "iopub.execute_input": "2023-12-19T00:23:30.559688Z",
     "iopub.status.busy": "2023-12-19T00:23:30.559103Z",
     "iopub.status.idle": "2023-12-19T00:24:01.866700Z",
     "shell.execute_reply": "2023-12-19T00:24:01.865759Z"
    },
    "papermill": {
     "duration": 31.316451,
     "end_time": "2023-12-19T00:24:01.871546",
     "exception": false,
     "start_time": "2023-12-19T00:23:30.555095",
     "status": "completed"
    },
    "tags": []
   },
   "outputs": [
    {
     "name": "stdout",
     "output_type": "stream",
     "text": [
      "Images: 1 / 1\r"
     ]
    }
   ],
   "source": [
    "test_df = pd.read_csv(test_csv)\n",
    "n = len(test_df)\n",
    "predicted_labels = []\n",
    "\n",
    "def ensemble(predictions, mode='hard_voting'):\n",
    "    predicted = one_hot_to_values(predictions, classes)\n",
    "    values, counts = np.unique(predicted, return_counts=True)\n",
    "    return values[counts.argmax()]\n",
    "\n",
    "for i, (idx, height) in enumerate(zip(test_df['image_id'], test_df['image_height'])):\n",
    "    it = 'tma' if height < 5000 else 'wsi'\n",
    "    crops = load_crops(idx, it)\n",
    "    predicted_labels.append(ensemble(model.predict(crops, verbose=0)))\n",
    "    print(f'Images: {i+1} / {n}',end='\\r')\n",
    "\n",
    "test_df[\"label\"] = predicted_labels\n",
    "submission_df = test_df[[\"image_id\", \"label\"]]\n",
    "submission_df.to_csv(\"submission.csv\", index=False)"
   ]
  }
 ],
 "metadata": {
  "kaggle": {
   "accelerator": "gpu",
   "dataSources": [
    {
     "databundleVersionId": 6924515,
     "sourceId": 45867,
     "sourceType": "competition"
    },
    {
     "datasetId": 4188615,
     "sourceId": 7233697,
     "sourceType": "datasetVersion"
    }
   ],
   "dockerImageVersionId": 30587,
   "isGpuEnabled": true,
   "isInternetEnabled": false,
   "language": "python",
   "sourceType": "notebook"
  },
  "kernelspec": {
   "display_name": "Python 3",
   "language": "python",
   "name": "python3"
  },
  "language_info": {
   "codemirror_mode": {
    "name": "ipython",
    "version": 3
   },
   "file_extension": ".py",
   "mimetype": "text/x-python",
   "name": "python",
   "nbconvert_exporter": "python",
   "pygments_lexer": "ipython3",
   "version": "3.10.12"
  },
  "papermill": {
   "default_parameters": {},
   "duration": 55.573282,
   "end_time": "2023-12-19T00:24:04.422643",
   "environment_variables": {},
   "exception": null,
   "input_path": "__notebook__.ipynb",
   "output_path": "__notebook__.ipynb",
   "parameters": {},
   "start_time": "2023-12-19T00:23:08.849361",
   "version": "2.4.0"
  }
 },
 "nbformat": 4,
 "nbformat_minor": 5
}
